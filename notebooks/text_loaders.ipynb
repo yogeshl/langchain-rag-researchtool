{
 "cells": [
  {
   "cell_type": "code",
   "execution_count": 2,
   "id": "d2674626-803e-4bc8-add4-b4a8e66239ad",
   "metadata": {},
   "outputs": [
    {
     "name": "stdout",
     "output_type": "stream",
     "text": [
      "Requirement already satisfied: langchain in c:\\users\\z002t72b\\appdata\\local\\miniconda3\\lib\\site-packages (0.1.5)\n",
      "Requirement already satisfied: PyYAML>=5.3 in c:\\users\\z002t72b\\appdata\\local\\miniconda3\\lib\\site-packages (from langchain) (6.0.1)\n",
      "Requirement already satisfied: SQLAlchemy<3,>=1.4 in c:\\users\\z002t72b\\appdata\\local\\miniconda3\\lib\\site-packages (from langchain) (2.0.25)\n",
      "Requirement already satisfied: aiohttp<4.0.0,>=3.8.3 in c:\\users\\z002t72b\\appdata\\local\\miniconda3\\lib\\site-packages (from langchain) (3.9.3)\n",
      "Requirement already satisfied: dataclasses-json<0.7,>=0.5.7 in c:\\users\\z002t72b\\appdata\\local\\miniconda3\\lib\\site-packages (from langchain) (0.6.4)\n",
      "Requirement already satisfied: jsonpatch<2.0,>=1.33 in c:\\users\\z002t72b\\appdata\\local\\miniconda3\\lib\\site-packages (from langchain) (1.33)\n",
      "Requirement already satisfied: langchain-community<0.1,>=0.0.17 in c:\\users\\z002t72b\\appdata\\local\\miniconda3\\lib\\site-packages (from langchain) (0.0.17)\n",
      "Requirement already satisfied: langchain-core<0.2,>=0.1.16 in c:\\users\\z002t72b\\appdata\\local\\miniconda3\\lib\\site-packages (from langchain) (0.1.18)\n",
      "Requirement already satisfied: langsmith<0.1,>=0.0.83 in c:\\users\\z002t72b\\appdata\\local\\miniconda3\\lib\\site-packages (from langchain) (0.0.86)\n",
      "Requirement already satisfied: numpy<2,>=1 in c:\\users\\z002t72b\\appdata\\local\\miniconda3\\lib\\site-packages (from langchain) (1.26.3)\n",
      "Requirement already satisfied: pydantic<3,>=1 in c:\\users\\z002t72b\\appdata\\local\\miniconda3\\lib\\site-packages (from langchain) (2.6.0)\n",
      "Requirement already satisfied: requests<3,>=2 in c:\\users\\z002t72b\\appdata\\local\\miniconda3\\lib\\site-packages (from langchain) (2.31.0)\n",
      "Requirement already satisfied: tenacity<9.0.0,>=8.1.0 in c:\\users\\z002t72b\\appdata\\local\\miniconda3\\lib\\site-packages (from langchain) (8.2.3)\n",
      "Requirement already satisfied: aiosignal>=1.1.2 in c:\\users\\z002t72b\\appdata\\local\\miniconda3\\lib\\site-packages (from aiohttp<4.0.0,>=3.8.3->langchain) (1.3.1)\n",
      "Requirement already satisfied: attrs>=17.3.0 in c:\\users\\z002t72b\\appdata\\local\\miniconda3\\lib\\site-packages (from aiohttp<4.0.0,>=3.8.3->langchain) (23.1.0)\n",
      "Requirement already satisfied: frozenlist>=1.1.1 in c:\\users\\z002t72b\\appdata\\local\\miniconda3\\lib\\site-packages (from aiohttp<4.0.0,>=3.8.3->langchain) (1.4.1)\n",
      "Requirement already satisfied: multidict<7.0,>=4.5 in c:\\users\\z002t72b\\appdata\\local\\miniconda3\\lib\\site-packages (from aiohttp<4.0.0,>=3.8.3->langchain) (6.0.5)\n",
      "Requirement already satisfied: yarl<2.0,>=1.0 in c:\\users\\z002t72b\\appdata\\local\\miniconda3\\lib\\site-packages (from aiohttp<4.0.0,>=3.8.3->langchain) (1.9.4)\n",
      "Requirement already satisfied: marshmallow<4.0.0,>=3.18.0 in c:\\users\\z002t72b\\appdata\\local\\miniconda3\\lib\\site-packages (from dataclasses-json<0.7,>=0.5.7->langchain) (3.20.2)\n",
      "Requirement already satisfied: typing-inspect<1,>=0.4.0 in c:\\users\\z002t72b\\appdata\\local\\miniconda3\\lib\\site-packages (from dataclasses-json<0.7,>=0.5.7->langchain) (0.9.0)\n",
      "Requirement already satisfied: jsonpointer>=1.9 in c:\\users\\z002t72b\\appdata\\local\\miniconda3\\lib\\site-packages (from jsonpatch<2.0,>=1.33->langchain) (2.1)\n",
      "Requirement already satisfied: anyio<5,>=3 in c:\\users\\z002t72b\\appdata\\local\\miniconda3\\lib\\site-packages (from langchain-core<0.2,>=0.1.16->langchain) (4.2.0)\n",
      "Requirement already satisfied: packaging<24.0,>=23.2 in c:\\users\\z002t72b\\appdata\\local\\miniconda3\\lib\\site-packages (from langchain-core<0.2,>=0.1.16->langchain) (23.2)\n",
      "Requirement already satisfied: annotated-types>=0.4.0 in c:\\users\\z002t72b\\appdata\\local\\miniconda3\\lib\\site-packages (from pydantic<3,>=1->langchain) (0.6.0)\n",
      "Requirement already satisfied: pydantic-core==2.16.1 in c:\\users\\z002t72b\\appdata\\local\\miniconda3\\lib\\site-packages (from pydantic<3,>=1->langchain) (2.16.1)\n",
      "Requirement already satisfied: typing-extensions>=4.6.1 in c:\\users\\z002t72b\\appdata\\local\\miniconda3\\lib\\site-packages (from pydantic<3,>=1->langchain) (4.9.0)\n",
      "Requirement already satisfied: charset-normalizer<4,>=2 in c:\\users\\z002t72b\\appdata\\local\\miniconda3\\lib\\site-packages (from requests<3,>=2->langchain) (3.3.2)\n",
      "Requirement already satisfied: idna<4,>=2.5 in c:\\users\\z002t72b\\appdata\\local\\miniconda3\\lib\\site-packages (from requests<3,>=2->langchain) (3.4)\n",
      "Requirement already satisfied: urllib3<3,>=1.21.1 in c:\\users\\z002t72b\\appdata\\local\\miniconda3\\lib\\site-packages (from requests<3,>=2->langchain) (1.26.18)\n",
      "Requirement already satisfied: certifi>=2017.4.17 in c:\\users\\z002t72b\\appdata\\local\\miniconda3\\lib\\site-packages (from requests<3,>=2->langchain) (2024.2.2)\n",
      "Requirement already satisfied: greenlet!=0.4.17 in c:\\users\\z002t72b\\appdata\\local\\miniconda3\\lib\\site-packages (from SQLAlchemy<3,>=1.4->langchain) (3.0.3)\n",
      "Requirement already satisfied: sniffio>=1.1 in c:\\users\\z002t72b\\appdata\\local\\miniconda3\\lib\\site-packages (from anyio<5,>=3->langchain-core<0.2,>=0.1.16->langchain) (1.3.0)\n",
      "Requirement already satisfied: mypy-extensions>=0.3.0 in c:\\users\\z002t72b\\appdata\\local\\miniconda3\\lib\\site-packages (from typing-inspect<1,>=0.4.0->dataclasses-json<0.7,>=0.5.7->langchain) (1.0.0)\n"
     ]
    }
   ],
   "source": [
    "!pip install langchain"
   ]
  },
  {
   "cell_type": "markdown",
   "id": "c083ec57",
   "metadata": {},
   "source": [
    "### Text Loader"
   ]
  },
  {
   "cell_type": "code",
   "execution_count": 3,
   "id": "3b01d613-1e26-41fa-af89-b25dad22c7a4",
   "metadata": {},
   "outputs": [],
   "source": [
    "from langchain.document_loaders import TextLoader\n",
    "\n",
    "loader = TextLoader(\"sample_data.txt\")\n",
    "textfile_content = loader.load()"
   ]
  },
  {
   "cell_type": "code",
   "execution_count": 4,
   "id": "7f4efa5f",
   "metadata": {},
   "outputs": [
    {
     "name": "stdout",
     "output_type": "stream",
     "text": [
      "<class 'langchain_community.document_loaders.text.TextLoader'>\n",
      "sample_data.txt\n",
      "{'source': 'sample_data.txt'}\n"
     ]
    }
   ],
   "source": [
    "print(type(loader))\n",
    "\n",
    "print(loader.file_path)\n",
    "\n",
    "print(textfile_content[0].metadata)\n",
    "#print(textfile_content[0].page_content)"
   ]
  },
  {
   "cell_type": "markdown",
   "id": "39c7cd17",
   "metadata": {},
   "source": [
    "### CSV Loader"
   ]
  },
  {
   "cell_type": "code",
   "execution_count": 5,
   "id": "78bf9702",
   "metadata": {},
   "outputs": [],
   "source": [
    "from langchain.document_loaders import CSVLoader"
   ]
  },
  {
   "cell_type": "code",
   "execution_count": 6,
   "id": "63d24fd3",
   "metadata": {},
   "outputs": [],
   "source": [
    "loader = CSVLoader(\"countries.csv\")\n",
    "csv_content = loader.load()"
   ]
  },
  {
   "cell_type": "code",
   "execution_count": 7,
   "id": "183ef9f5",
   "metadata": {},
   "outputs": [
    {
     "name": "stdout",
     "output_type": "stream",
     "text": [
      "<class 'langchain_community.document_loaders.csv_loader.CSVLoader'>\n",
      "Total Records: 10\n",
      "page_content='Country: China\\nCapital: Beijing' metadata={'source': 'countries.csv', 'row': 0}\n",
      "page_content='Country: India\\nCapital: New Delhi' metadata={'source': 'countries.csv', 'row': 1}\n"
     ]
    }
   ],
   "source": [
    "print(type(loader))\n",
    "\n",
    "print(f\"Total Records: {len(csv_content)}\")\n",
    "\n",
    "print(csv_content[0])\n",
    "print(csv_content[1])"
   ]
  },
  {
   "cell_type": "code",
   "execution_count": 8,
   "id": "e6b38652",
   "metadata": {},
   "outputs": [],
   "source": [
    "# update metadata source for each row instead of default file name\n",
    "loader = CSVLoader(\"countries.csv\", source_column=\"Country\")\n",
    "csv_content = loader.load()"
   ]
  },
  {
   "cell_type": "code",
   "execution_count": 9,
   "id": "30372920",
   "metadata": {},
   "outputs": [
    {
     "name": "stdout",
     "output_type": "stream",
     "text": [
      "<class 'langchain_community.document_loaders.csv_loader.CSVLoader'>\n",
      "Total Records: 10\n",
      "page_content='Country: China\\nCapital: Beijing' metadata={'source': 'China', 'row': 0}\n",
      "page_content='Country: India\\nCapital: New Delhi' metadata={'source': 'India', 'row': 1}\n"
     ]
    }
   ],
   "source": [
    "print(type(loader))\n",
    "\n",
    "print(f\"Total Records: {len(csv_content)}\")\n",
    "\n",
    "print(csv_content[0])\n",
    "print(csv_content[1])"
   ]
  },
  {
   "cell_type": "markdown",
   "id": "213241c4",
   "metadata": {},
   "source": [
    "### Unstructured URL Loader (UnstructuredURLLoader of Langchain internally uses unstructured python library)"
   ]
  },
  {
   "cell_type": "code",
   "execution_count": 15,
   "id": "04f89f95",
   "metadata": {},
   "outputs": [
    {
     "name": "stdout",
     "output_type": "stream",
     "text": [
      "Requirement already satisfied: unstructured in c:\\users\\z002t72b\\appdata\\local\\miniconda3\\lib\\site-packages (0.12.5)\n",
      "Requirement already satisfied: libmagic in c:\\users\\z002t72b\\appdata\\local\\miniconda3\\lib\\site-packages (1.0)\n",
      "Requirement already satisfied: python-magic in c:\\users\\z002t72b\\appdata\\local\\miniconda3\\lib\\site-packages (0.4.27)\n",
      "Requirement already satisfied: python-magic-bin in c:\\users\\z002t72b\\appdata\\local\\miniconda3\\lib\\site-packages (0.4.14)\n",
      "Requirement already satisfied: chardet in c:\\users\\z002t72b\\appdata\\local\\miniconda3\\lib\\site-packages (from unstructured) (5.2.0)\n",
      "Requirement already satisfied: filetype in c:\\users\\z002t72b\\appdata\\local\\miniconda3\\lib\\site-packages (from unstructured) (1.2.0)\n",
      "Requirement already satisfied: lxml in c:\\users\\z002t72b\\appdata\\local\\miniconda3\\lib\\site-packages (from unstructured) (5.1.0)\n",
      "Requirement already satisfied: nltk in c:\\users\\z002t72b\\appdata\\local\\miniconda3\\lib\\site-packages (from unstructured) (3.8.1)\n",
      "Requirement already satisfied: tabulate in c:\\users\\z002t72b\\appdata\\local\\miniconda3\\lib\\site-packages (from unstructured) (0.9.0)\n",
      "Requirement already satisfied: requests in c:\\users\\z002t72b\\appdata\\local\\miniconda3\\lib\\site-packages (from unstructured) (2.31.0)\n",
      "Requirement already satisfied: beautifulsoup4 in c:\\users\\z002t72b\\appdata\\local\\miniconda3\\lib\\site-packages (from unstructured) (4.12.2)\n",
      "Requirement already satisfied: emoji in c:\\users\\z002t72b\\appdata\\local\\miniconda3\\lib\\site-packages (from unstructured) (2.10.1)\n",
      "Requirement already satisfied: dataclasses-json in c:\\users\\z002t72b\\appdata\\local\\miniconda3\\lib\\site-packages (from unstructured) (0.6.4)\n",
      "Requirement already satisfied: python-iso639 in c:\\users\\z002t72b\\appdata\\local\\miniconda3\\lib\\site-packages (from unstructured) (2024.2.7)\n",
      "Requirement already satisfied: langdetect in c:\\users\\z002t72b\\appdata\\local\\miniconda3\\lib\\site-packages (from unstructured) (1.0.9)\n",
      "Requirement already satisfied: numpy in c:\\users\\z002t72b\\appdata\\local\\miniconda3\\lib\\site-packages (from unstructured) (1.26.3)\n",
      "Requirement already satisfied: rapidfuzz in c:\\users\\z002t72b\\appdata\\local\\miniconda3\\lib\\site-packages (from unstructured) (3.6.2)\n",
      "Requirement already satisfied: backoff in c:\\users\\z002t72b\\appdata\\local\\miniconda3\\lib\\site-packages (from unstructured) (2.2.1)\n",
      "Requirement already satisfied: typing-extensions in c:\\users\\z002t72b\\appdata\\local\\miniconda3\\lib\\site-packages (from unstructured) (4.9.0)\n",
      "Requirement already satisfied: unstructured-client>=0.15.1 in c:\\users\\z002t72b\\appdata\\local\\miniconda3\\lib\\site-packages (from unstructured) (0.21.1)\n",
      "Requirement already satisfied: wrapt in c:\\users\\z002t72b\\appdata\\local\\miniconda3\\lib\\site-packages (from unstructured) (1.16.0)\n",
      "Requirement already satisfied: certifi>=2023.7.22 in c:\\users\\z002t72b\\appdata\\local\\miniconda3\\lib\\site-packages (from unstructured-client>=0.15.1->unstructured) (2024.2.2)\n",
      "Requirement already satisfied: charset-normalizer>=3.2.0 in c:\\users\\z002t72b\\appdata\\local\\miniconda3\\lib\\site-packages (from unstructured-client>=0.15.1->unstructured) (3.3.2)\n",
      "Requirement already satisfied: deepdiff>=6.0 in c:\\users\\z002t72b\\appdata\\local\\miniconda3\\lib\\site-packages (from unstructured-client>=0.15.1->unstructured) (6.7.1)\n",
      "Requirement already satisfied: idna>=3.4 in c:\\users\\z002t72b\\appdata\\local\\miniconda3\\lib\\site-packages (from unstructured-client>=0.15.1->unstructured) (3.4)\n",
      "Requirement already satisfied: jsonpath-python>=1.0.6 in c:\\users\\z002t72b\\appdata\\local\\miniconda3\\lib\\site-packages (from unstructured-client>=0.15.1->unstructured) (1.0.6)\n",
      "Requirement already satisfied: marshmallow>=3.19.0 in c:\\users\\z002t72b\\appdata\\local\\miniconda3\\lib\\site-packages (from unstructured-client>=0.15.1->unstructured) (3.20.2)\n",
      "Requirement already satisfied: mypy-extensions>=1.0.0 in c:\\users\\z002t72b\\appdata\\local\\miniconda3\\lib\\site-packages (from unstructured-client>=0.15.1->unstructured) (1.0.0)\n",
      "Requirement already satisfied: packaging>=23.1 in c:\\users\\z002t72b\\appdata\\local\\miniconda3\\lib\\site-packages (from unstructured-client>=0.15.1->unstructured) (23.2)\n",
      "Requirement already satisfied: pypdf>=4.0 in c:\\users\\z002t72b\\appdata\\local\\miniconda3\\lib\\site-packages (from unstructured-client>=0.15.1->unstructured) (4.1.0)\n",
      "Requirement already satisfied: python-dateutil>=2.8.2 in c:\\users\\z002t72b\\appdata\\local\\miniconda3\\lib\\site-packages (from unstructured-client>=0.15.1->unstructured) (2.8.2)\n",
      "Requirement already satisfied: six>=1.16.0 in c:\\users\\z002t72b\\appdata\\local\\miniconda3\\lib\\site-packages (from unstructured-client>=0.15.1->unstructured) (1.16.0)\n",
      "Requirement already satisfied: typing-inspect>=0.9.0 in c:\\users\\z002t72b\\appdata\\local\\miniconda3\\lib\\site-packages (from unstructured-client>=0.15.1->unstructured) (0.9.0)\n",
      "Requirement already satisfied: urllib3>=1.26.18 in c:\\users\\z002t72b\\appdata\\local\\miniconda3\\lib\\site-packages (from unstructured-client>=0.15.1->unstructured) (1.26.18)\n",
      "Requirement already satisfied: soupsieve>1.2 in c:\\users\\z002t72b\\appdata\\local\\miniconda3\\lib\\site-packages (from beautifulsoup4->unstructured) (2.5)\n",
      "Requirement already satisfied: click in c:\\users\\z002t72b\\appdata\\local\\miniconda3\\lib\\site-packages (from nltk->unstructured) (8.1.7)\n",
      "Requirement already satisfied: joblib in c:\\users\\z002t72b\\appdata\\local\\miniconda3\\lib\\site-packages (from nltk->unstructured) (1.3.2)\n",
      "Requirement already satisfied: regex>=2021.8.3 in c:\\users\\z002t72b\\appdata\\local\\miniconda3\\lib\\site-packages (from nltk->unstructured) (2023.12.25)\n",
      "Requirement already satisfied: tqdm in c:\\users\\z002t72b\\appdata\\local\\miniconda3\\lib\\site-packages (from nltk->unstructured) (4.65.0)\n",
      "Requirement already satisfied: ordered-set<4.2.0,>=4.0.2 in c:\\users\\z002t72b\\appdata\\local\\miniconda3\\lib\\site-packages (from deepdiff>=6.0->unstructured-client>=0.15.1->unstructured) (4.1.0)\n",
      "Requirement already satisfied: colorama in c:\\users\\z002t72b\\appdata\\local\\miniconda3\\lib\\site-packages (from click->nltk->unstructured) (0.4.6)\n"
     ]
    }
   ],
   "source": [
    "!pip install unstructured libmagic python-magic python-magic-bin"
   ]
  },
  {
   "cell_type": "code",
   "execution_count": 2,
   "id": "425680b4",
   "metadata": {},
   "outputs": [],
   "source": [
    "from langchain.document_loaders import UnstructuredURLLoader"
   ]
  },
  {
   "cell_type": "code",
   "execution_count": 3,
   "id": "04f0f4e2",
   "metadata": {},
   "outputs": [],
   "source": [
    "loader = UnstructuredURLLoader(urls= [\n",
    "    \"https://simple.wikipedia.org/wiki/India\",\n",
    "])"
   ]
  },
  {
   "cell_type": "code",
   "execution_count": 4,
   "id": "e657193d",
   "metadata": {},
   "outputs": [
    {
     "name": "stderr",
     "output_type": "stream",
     "text": [
      "[nltk_data] Downloading package punkt to /home/yogesh.l/nltk_data...\n",
      "[nltk_data]   Unzipping tokenizers/punkt.zip.\n",
      "[nltk_data] Downloading package averaged_perceptron_tagger to\n",
      "[nltk_data]     /home/yogesh.l/nltk_data...\n",
      "[nltk_data]   Unzipping taggers/averaged_perceptron_tagger.zip.\n"
     ]
    },
    {
     "data": {
      "text/plain": [
       "1"
      ]
     },
     "execution_count": 4,
     "metadata": {},
     "output_type": "execute_result"
    }
   ],
   "source": [
    "website_content = loader.load()\n",
    "len(website_content)"
   ]
  },
  {
   "cell_type": "code",
   "execution_count": 5,
   "id": "ca8aa7b9",
   "metadata": {},
   "outputs": [
    {
     "data": {
      "text/plain": [
       "'Toggle the table of contents\\n\\nIndia\\n\\n295 languages\\n\\nAcèh\\n\\nАдыгэбзэ\\n\\nАдыгабзэ\\n\\nAfrikaans\\n\\nAlemannisch'"
      ]
     },
     "execution_count": 5,
     "metadata": {},
     "output_type": "execute_result"
    }
   ],
   "source": [
    "website_content[0].page_content[0:100]"
   ]
  },
  {
   "cell_type": "code",
   "execution_count": 6,
   "id": "67e0ece2",
   "metadata": {},
   "outputs": [
    {
     "data": {
      "text/plain": [
       "{'source': 'https://simple.wikipedia.org/wiki/India'}"
      ]
     },
     "execution_count": 6,
     "metadata": {},
     "output_type": "execute_result"
    }
   ],
   "source": [
    "website_content[0].metadata"
   ]
  },
  {
   "cell_type": "code",
   "execution_count": 1,
   "id": "d8724a42",
   "metadata": {},
   "outputs": [
    {
     "name": "stdout",
     "output_type": "stream",
     "text": [
      "/home/yogesh.l/workspace/github/langchain-rag-researchtool/venv/bin/python\n",
      "/home/yogesh.l/workspace/github/langchain-rag-researchtool/venv/bin:/home/yogesh.l/miniconda3/condabin:/home/yogesh.l/.local/bin:/home/yogesh.l/.nvm/versions/node/v16.13.2/bin:/home/yogesh.l/.local/bin:/usr/local/sbin:/usr/local/bin:/usr/sbin:/usr/bin:/sbin:/bin:/usr/games:/usr/local/games:/snap/bin\n"
     ]
    }
   ],
   "source": [
    "import sys\n",
    "import os\n",
    "print(sys.executable)  # Path to your Python executable\n",
    "print(os.environ['PATH'])  # Check your PATH variable\n"
   ]
  }
 ],
 "metadata": {
  "kernelspec": {
   "display_name": "Python 3 (ipykernel)",
   "language": "python",
   "name": "python3"
  },
  "language_info": {
   "codemirror_mode": {
    "name": "ipython",
    "version": 3
   },
   "file_extension": ".py",
   "mimetype": "text/x-python",
   "name": "python",
   "nbconvert_exporter": "python",
   "pygments_lexer": "ipython3",
   "version": "3.10.13"
  }
 },
 "nbformat": 4,
 "nbformat_minor": 5
}
