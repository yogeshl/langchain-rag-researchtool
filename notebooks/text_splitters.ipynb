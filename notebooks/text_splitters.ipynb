{
 "cells": [
  {
   "cell_type": "markdown",
   "metadata": {},
   "source": [
    "### Text Splitters"
   ]
  },
  {
   "cell_type": "code",
   "execution_count": 1,
   "metadata": {},
   "outputs": [],
   "source": [
    "\n",
    "#LLM's have token limits. We need to split the text which can be large into small chunks so that each chunk size is under the token limit. There are various text splitter classes in langchain."
   ]
  },
  {
   "cell_type": "code",
   "execution_count": 2,
   "metadata": {},
   "outputs": [],
   "source": [
    "text = \"\"\"\n",
    "India (Hindi: Bhārat), officially the Republic of India (Hindi: Bhārat Gaṇarājya), also known as Hindustān or Bhārat within the country, is a country in South Asia. It is the largest country by number of people and seventh largest country by land area.[10] India is a peninsula, and has the Indian Ocean on the south, the Arabian Sea on the southwest, and the Bay of Bengal on the southeast. It has six neighbors: Pakistan in the north-west, China, Nepal, and Bhutan in the north, and Bangladesh and Myanmar in the east. Sri Lanka is nearby to the south.\n",
    "The capital city of India is New Delhi. India has the second largest military force in the world and is also a nuclear weapon state.[11] India's economy became the world's fastest growing in the G20 developing nations during 2014, replacing the People's Republic of China.[12] India's literacy and wealth are also rising.[13] According to New World Wealth, India is the fifth richest country in the world with a total individual wealth of $12.6 trillion.[14][15] However, it still has many social and economic issues like poverty, pollution, social equality, religious extremism, terrorism and corruption.[16] India is a founding member of the World Trade Organisation (WTO), and has signed the Kyoto Protocol.\n",
    "India has the third largest economy by nominal GDP, the first largest by GDP (PPP) and is on of the fastest growing major economy. India has its own space agency (ISRO) and has done various research throughout the solar system, including sending spacecraft to the Moon, Mars, and Venus.[source?] India is also a member of the G20 developing nations, and has been described as a potential superpower due to its rising economy and increase in global influence.\n",
    "\"\"\""
   ]
  },
  {
   "cell_type": "markdown",
   "metadata": {},
   "source": [
    "Manual approach"
   ]
  },
  {
   "cell_type": "code",
   "execution_count": 4,
   "metadata": {},
   "outputs": [
    {
     "data": {
      "text/plain": [
       "'\\nIndia (Hindi: Bhārat), officially the Republic of India (Hindi: Bhārat Gaṇarājya), also known as Hi'"
      ]
     },
     "execution_count": 4,
     "metadata": {},
     "output_type": "execute_result"
    }
   ],
   "source": [
    "text[0:100]"
   ]
  },
  {
   "cell_type": "code",
   "execution_count": 5,
   "metadata": {},
   "outputs": [
    {
     "data": {
      "text/plain": [
       "282"
      ]
     },
     "execution_count": 5,
     "metadata": {},
     "output_type": "execute_result"
    }
   ],
   "source": [
    "words = text.split(\" \")\n",
    "len(words)"
   ]
  },
  {
   "cell_type": "code",
   "execution_count": 6,
   "metadata": {},
   "outputs": [],
   "source": [
    "chunks =[]\n",
    "\n",
    "temp =\"\"\n",
    "for word in words:\n",
    "    temp += word + \" \"\n",
    "    if(len(temp) > 200):\n",
    "        chunks.append(temp)\n",
    "        temp = \"\"\n",
    "\n",
    "chunks.append(temp)"
   ]
  },
  {
   "cell_type": "code",
   "execution_count": 7,
   "metadata": {},
   "outputs": [
    {
     "data": {
      "text/plain": [
       "['\\nIndia (Hindi: Bhārat), officially the Republic of India (Hindi: Bhārat Gaṇarājya), also known as Hindustān or Bhārat within the country, is a country in South Asia. It is the largest country by number ',\n",
       " 'of people and seventh largest country by land area.[10] India is a peninsula, and has the Indian Ocean on the south, the Arabian Sea on the southwest, and the Bay of Bengal on the southeast. It has six ']"
      ]
     },
     "execution_count": 7,
     "metadata": {},
     "output_type": "execute_result"
    }
   ],
   "source": [
    "chunks[:2]"
   ]
  },
  {
   "cell_type": "markdown",
   "metadata": {},
   "source": [
    "### Langchain Text Splitter's"
   ]
  },
  {
   "cell_type": "markdown",
   "metadata": {},
   "source": [
    "Character Text Splitter"
   ]
  },
  {
   "cell_type": "code",
   "execution_count": 9,
   "metadata": {},
   "outputs": [],
   "source": [
    "from langchain.text_splitter import CharacterTextSplitter"
   ]
  },
  {
   "cell_type": "code",
   "execution_count": 11,
   "metadata": {},
   "outputs": [],
   "source": [
    "text_splitter= CharacterTextSplitter(\n",
    "    separator=\"\\n\",\n",
    "    chunk_size=200,\n",
    "    chunk_overlap=0\n",
    ")"
   ]
  },
  {
   "cell_type": "code",
   "execution_count": 12,
   "metadata": {},
   "outputs": [
    {
     "name": "stderr",
     "output_type": "stream",
     "text": [
      "Created a chunk of size 554, which is longer than the specified 200\n",
      "Created a chunk of size 710, which is longer than the specified 200\n"
     ]
    },
    {
     "data": {
      "text/plain": [
       "3"
      ]
     },
     "execution_count": 12,
     "metadata": {},
     "output_type": "execute_result"
    }
   ],
   "source": [
    "chunks = text_splitter.split_text(text=text)\n",
    "len(chunks)"
   ]
  },
  {
   "cell_type": "code",
   "execution_count": 13,
   "metadata": {},
   "outputs": [
    {
     "name": "stdout",
     "output_type": "stream",
     "text": [
      "554\n",
      "710\n",
      "458\n"
     ]
    }
   ],
   "source": [
    "for chunk in chunks:\n",
    "    print(len(chunk))"
   ]
  },
  {
   "cell_type": "markdown",
   "metadata": {},
   "source": [
    "Recursive Text Splitter"
   ]
  },
  {
   "cell_type": "code",
   "execution_count": 14,
   "metadata": {},
   "outputs": [
    {
     "data": {
      "text/plain": [
       "\"\\nIndia (Hindi: Bhārat), officially the Republic of India (Hindi: Bhārat Gaṇarājya), also known as Hindustān or Bhārat within the country, is a country in South Asia. It is the largest country by number of people and seventh largest country by land area.[10] India is a peninsula, and has the Indian Ocean on the south, the Arabian Sea on the southwest, and the Bay of Bengal on the southeast. It has six neighbors: Pakistan in the north-west, China, Nepal, and Bhutan in the north, and Bangladesh and Myanmar in the east. Sri Lanka is nearby to the south.\\nThe capital city of India is New Delhi. India has the second largest military force in the world and is also a nuclear weapon state.[11] India's economy became the world's fastest growing in the G20 developing nations during 2014, replacing the People's Republic of China.[12] India's literacy and wealth are also rising.[13] According to New World Wealth, India is the fifth richest country in the world with a total individual wealth of $12.6 trillion.[14][15] However, it still has many social and economic issues like poverty, pollution, social equality, religious extremism, terrorism and corruption.[16] India is a founding member of the World Trade Organisation (WTO), and has signed the Kyoto Protocol.\\nIndia has the third largest economy by nominal GDP, the first largest by GDP (PPP) and is on of the fastest growing major economy. India has its own space agency (ISRO) and has done various research throughout the solar system, including sending spacecraft to the Moon, Mars, and Venus.[source?] India is also a member of the G20 developing nations, and has been described as a potential superpower due to its rising economy and increase in global influence.\\n\""
      ]
     },
     "execution_count": 14,
     "metadata": {},
     "output_type": "execute_result"
    }
   ],
   "source": [
    "text"
   ]
  },
  {
   "cell_type": "code",
   "execution_count": 16,
   "metadata": {},
   "outputs": [],
   "source": [
    "from langchain.text_splitter import RecursiveCharacterTextSplitter\n",
    "\n",
    "r_splitter = RecursiveCharacterTextSplitter(\n",
    "    separators=[\"\\n\\n\",\"\\n\",\" \"],  # List of separators based on requirement. \n",
    "    chunk_size=200,\n",
    "    chunk_overlap=0,\n",
    "    length_function = len\n",
    "\n",
    ")"
   ]
  },
  {
   "cell_type": "code",
   "execution_count": 17,
   "metadata": {},
   "outputs": [
    {
     "name": "stdout",
     "output_type": "stream",
     "text": [
      "193\n",
      "197\n",
      "162\n",
      "198\n",
      "199\n",
      "194\n",
      "116\n",
      "198\n",
      "199\n",
      "59\n"
     ]
    }
   ],
   "source": [
    "chunks = r_splitter.split_text(text)\n",
    "\n",
    "for chunk in chunks:\n",
    "    print(len(chunk))"
   ]
  },
  {
   "cell_type": "markdown",
   "metadata": {},
   "source": []
  }
 ],
 "metadata": {
  "kernelspec": {
   "display_name": "base",
   "language": "python",
   "name": "python3"
  },
  "language_info": {
   "codemirror_mode": {
    "name": "ipython",
    "version": 3
   },
   "file_extension": ".py",
   "mimetype": "text/x-python",
   "name": "python",
   "nbconvert_exporter": "python",
   "pygments_lexer": "ipython3",
   "version": "3.11.5"
  }
 },
 "nbformat": 4,
 "nbformat_minor": 2
}
